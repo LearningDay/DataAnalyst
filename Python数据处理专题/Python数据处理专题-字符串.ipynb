{
 "cells": [
  {
   "cell_type": "markdown",
   "metadata": {},
   "source": [
    "# 字符串序列的处理\n",
    "1. 字符串拆分\n",
    "2. 诊断是否包含 子字符串\n",
    "3. 替换\n",
    "4. 类别字符串转换为离散变量\n",
    "5. 字符串去重查看"
   ]
  },
  {
   "cell_type": "code",
   "execution_count": 1,
   "metadata": {},
   "outputs": [],
   "source": [
    "# coding = utf-8\n",
    "import numpy as np\n",
    "import pandas as pd\n",
    "import matplotlib.pyplot as plt\n",
    "import seaborn as sns\n",
    "%matplotlib inline\n",
    "import time # 用于计算程序 处理耗时"
   ]
  },
  {
   "cell_type": "code",
   "execution_count": 2,
   "metadata": {},
   "outputs": [
    {
     "data": {
      "text/html": [
       "<div>\n",
       "<style scoped>\n",
       "    .dataframe tbody tr th:only-of-type {\n",
       "        vertical-align: middle;\n",
       "    }\n",
       "\n",
       "    .dataframe tbody tr th {\n",
       "        vertical-align: top;\n",
       "    }\n",
       "\n",
       "    .dataframe thead th {\n",
       "        text-align: right;\n",
       "    }\n",
       "</style>\n",
       "<table border=\"1\" class=\"dataframe\">\n",
       "  <thead>\n",
       "    <tr style=\"text-align: right;\">\n",
       "      <th></th>\n",
       "      <th>lat</th>\n",
       "      <th>lng</th>\n",
       "      <th>desc</th>\n",
       "      <th>zip</th>\n",
       "      <th>title</th>\n",
       "      <th>timeStamp</th>\n",
       "      <th>twp</th>\n",
       "      <th>addr</th>\n",
       "      <th>e</th>\n",
       "    </tr>\n",
       "  </thead>\n",
       "  <tbody>\n",
       "    <tr>\n",
       "      <th>0</th>\n",
       "      <td>40.297876</td>\n",
       "      <td>-75.581294</td>\n",
       "      <td>REINDEER CT &amp; DEAD END;  NEW HANOVER; Station ...</td>\n",
       "      <td>19525.0</td>\n",
       "      <td>EMS: BACK PAINS/INJURY</td>\n",
       "      <td>2015-12-10 17:10:52</td>\n",
       "      <td>NEW HANOVER</td>\n",
       "      <td>REINDEER CT &amp; DEAD END</td>\n",
       "      <td>1</td>\n",
       "    </tr>\n",
       "    <tr>\n",
       "      <th>1</th>\n",
       "      <td>40.258061</td>\n",
       "      <td>-75.264680</td>\n",
       "      <td>BRIAR PATH &amp; WHITEMARSH LN;  HATFIELD TOWNSHIP...</td>\n",
       "      <td>19446.0</td>\n",
       "      <td>EMS: DIABETIC EMERGENCY</td>\n",
       "      <td>2015-12-10 17:29:21</td>\n",
       "      <td>HATFIELD TOWNSHIP</td>\n",
       "      <td>BRIAR PATH &amp; WHITEMARSH LN</td>\n",
       "      <td>1</td>\n",
       "    </tr>\n",
       "  </tbody>\n",
       "</table>\n",
       "</div>"
      ],
      "text/plain": [
       "         lat        lng                                               desc  \\\n",
       "0  40.297876 -75.581294  REINDEER CT & DEAD END;  NEW HANOVER; Station ...   \n",
       "1  40.258061 -75.264680  BRIAR PATH & WHITEMARSH LN;  HATFIELD TOWNSHIP...   \n",
       "\n",
       "       zip                    title            timeStamp                twp  \\\n",
       "0  19525.0   EMS: BACK PAINS/INJURY  2015-12-10 17:10:52        NEW HANOVER   \n",
       "1  19446.0  EMS: DIABETIC EMERGENCY  2015-12-10 17:29:21  HATFIELD TOWNSHIP   \n",
       "\n",
       "                         addr  e  \n",
       "0      REINDEER CT & DEAD END  1  \n",
       "1  BRIAR PATH & WHITEMARSH LN  1  "
      ]
     },
     "execution_count": 2,
     "metadata": {},
     "output_type": "execute_result"
    }
   ],
   "source": [
    "data = pd.read_csv('911.csv')\n",
    "data.head(2)"
   ]
  },
  {
   "cell_type": "code",
   "execution_count": 3,
   "metadata": {},
   "outputs": [
    {
     "name": "stdout",
     "output_type": "stream",
     "text": [
      "<class 'pandas.core.frame.DataFrame'>\n",
      "RangeIndex: 423909 entries, 0 to 423908\n",
      "Data columns (total 9 columns):\n",
      "lat          423909 non-null float64\n",
      "lng          423909 non-null float64\n",
      "desc         423909 non-null object\n",
      "zip          371780 non-null float64\n",
      "title        423909 non-null object\n",
      "timeStamp    423909 non-null object\n",
      "twp          423750 non-null object\n",
      "addr         423909 non-null object\n",
      "e            423909 non-null int64\n",
      "dtypes: float64(3), int64(1), object(5)\n",
      "memory usage: 21.0+ MB\n"
     ]
    }
   ],
   "source": [
    "data.info()"
   ]
  },
  {
   "cell_type": "markdown",
   "metadata": {},
   "source": [
    "# 1. **字符串拆分**\n",
    "\n",
    "    1. 先诊断每行是否都是统一的形式\n",
    "    2. 再拆分\n",
    "    \n",
    "    \n",
    "\n",
    "* 注意Series 的tolist() 没有下划线\n",
    "* DataFrame 的to_list() 有下划线\n",
    "* data.assign(new_col=) 增加一列\n",
    "    * 因为 有时直接复制会报错"
   ]
  },
  {
   "cell_type": "code",
   "execution_count": 4,
   "metadata": {},
   "outputs": [
    {
     "data": {
      "text/plain": [
       "False    423909\n",
       "Name: title, dtype: int64"
      ]
     },
     "execution_count": 4,
     "metadata": {},
     "output_type": "execute_result"
    }
   ],
   "source": [
    "(data['title'].str.split(': ').map(len) != 2).value_counts()"
   ]
  },
  {
   "cell_type": "code",
   "execution_count": 5,
   "metadata": {
    "scrolled": true
   },
   "outputs": [
    {
     "name": "stdout",
     "output_type": "stream",
     "text": [
      "EMS        208676\n",
      "Traffic    151458\n",
      "Fire        63775\n",
      "Name: type, dtype: int64\n"
     ]
    }
   ],
   "source": [
    "# 方法一,拆分为DataFrame选取指定列\n",
    "data = data.assign(type = data['title'].str.split(\": \",expand=True)[0])\n",
    "\n",
    "print(data['type'].value_counts())"
   ]
  },
  {
   "cell_type": "code",
   "execution_count": 6,
   "metadata": {},
   "outputs": [
    {
     "name": "stdout",
     "output_type": "stream",
     "text": [
      "0     [EMS, BACK PAINS/INJURY]\n",
      "1    [EMS, DIABETIC EMERGENCY]\n",
      "Name: title, dtype: object\n"
     ]
    },
    {
     "data": {
      "text/plain": [
       "['Fire', 'EMS', 'Traffic']"
      ]
     },
     "execution_count": 6,
     "metadata": {},
     "output_type": "execute_result"
    }
   ],
   "source": [
    "# 方法二\n",
    "a = data['title'].str.split(\": \")\n",
    "print(a.head(2))\n",
    "list(set([i[0] for i in a]))"
   ]
  },
  {
   "cell_type": "code",
   "execution_count": 7,
   "metadata": {},
   "outputs": [
    {
     "data": {
      "text/plain": [
       "['Fire', 'EMS', 'Traffic']"
      ]
     },
     "execution_count": 7,
     "metadata": {},
     "output_type": "execute_result"
    }
   ],
   "source": [
    "# 方法二 tolist()\n",
    "b = data['title'].str.split(\": \").tolist()\n",
    "list(set([i[0] for i in b]))"
   ]
  },
  {
   "cell_type": "markdown",
   "metadata": {},
   "source": [
    "# 2. **诊断是否包含子字符串**"
   ]
  },
  {
   "cell_type": "code",
   "execution_count": 8,
   "metadata": {},
   "outputs": [
    {
     "data": {
      "text/plain": [
       "208682"
      ]
     },
     "execution_count": 8,
     "metadata": {},
     "output_type": "execute_result"
    }
   ],
   "source": [
    "data['title'].str.contains('EMS').sum() # 紧急电话中包含EMS的事件类型次数"
   ]
  },
  {
   "cell_type": "code",
   "execution_count": 9,
   "metadata": {},
   "outputs": [
    {
     "data": {
      "text/plain": [
       "215227"
      ]
     },
     "execution_count": 9,
     "metadata": {},
     "output_type": "execute_result"
    }
   ],
   "source": [
    "(~data['title'].str.contains('EMS')).sum() # 不包含EMS的时间类型次数"
   ]
  },
  {
   "cell_type": "markdown",
   "metadata": {},
   "source": [
    "# 3. **替换**\n",
    "\n",
    "\n",
    "* 注意用时\n",
    "    * 可是在 讲解中 说的是方法一会比较快——应该是这里的数据太少的原因"
   ]
  },
  {
   "cell_type": "code",
   "execution_count": 10,
   "metadata": {},
   "outputs": [
    {
     "name": "stdout",
     "output_type": "stream",
     "text": [
      "0     EMS_你好_ BACK PAINS/INJURY\n",
      "1    EMS_你好_ DIABETIC EMERGENCY\n",
      "2        Fire_你好_ GAS-ODOR/LEAK\n",
      "3     EMS_你好_ CARDIAC EMERGENCY\n",
      "4             EMS_你好_ DIZZINESS\n",
      "Name: title, dtype: object\n",
      "********************\n",
      "用时0.2975615410319327秒\n"
     ]
    }
   ],
   "source": [
    "# 方法一\n",
    "start = time.clock()\n",
    "\n",
    "data['title'].str.replace(':','_你好_')\n",
    "\n",
    "end = time.clock()\n",
    "print(data['title'].str.replace(':','_你好_').head())\n",
    "print(\"*\"*20)\n",
    "print('用时{}秒'.format(end-start))"
   ]
  },
  {
   "cell_type": "code",
   "execution_count": 11,
   "metadata": {},
   "outputs": [
    {
     "name": "stdout",
     "output_type": "stream",
     "text": [
      "0     EMS_欧啦_ BACK PAINS/INJURY\n",
      "1    EMS_欧啦_ DIABETIC EMERGENCY\n",
      "2        Fire_欧啦_ GAS-ODOR/LEAK\n",
      "3     EMS_欧啦_ CARDIAC EMERGENCY\n",
      "4             EMS_欧啦_ DIZZINESS\n",
      "Name: title, dtype: object\n",
      "||||||||||||||||||||\n",
      "用时0.23902983243235242927秒\n"
     ]
    }
   ],
   "source": [
    "# 方法二\n",
    "start = time.clock()\n",
    "\n",
    "data['title'].map(lambda x:x.replace(':','_欧啦_'))\n",
    "\n",
    "end = time.clock()\n",
    "print(data['title'].map(lambda x:x.replace(':','_欧啦_')).head())\n",
    "print(\"|\"*20)\n",
    "print('用时%.20f秒'%(end-start))"
   ]
  },
  {
   "cell_type": "markdown",
   "metadata": {},
   "source": [
    "# 4. **将分类字符串换为离散变量**\n",
    "\n",
    "    1. 方法一\n",
    "        - pd.get_dummies(df['col'])\n",
    "    2. 方法二\n",
    "        - 遍历\n",
    "    3. 方法三\n",
    "        .map(字典)法\n",
    "    4. 方法四\n",
    "        - 机器学习\n",
    "        - from sklearn.preprocessing import LabelEncoder\n",
    "        - 返回的是 list\n",
    "> .map(字典)，可适用于 中英文互转（前提是字典对应）\n",
    "     \n",
    "\n",
    "* 大，中，小 转换为  3，2，1\n",
    "\n",
    "* EMS-1\n",
    "* Fire-2\n",
    "* Traffic-3\n",
    "\n",
    "## 方法一 pd.get_dummies(df['col'])"
   ]
  },
  {
   "cell_type": "code",
   "execution_count": 12,
   "metadata": {},
   "outputs": [
    {
     "data": {
      "text/plain": [
       "0     EMS\n",
       "1     EMS\n",
       "2    Fire\n",
       "3     EMS\n",
       "4     EMS\n",
       "Name: type, dtype: object"
      ]
     },
     "execution_count": 12,
     "metadata": {},
     "output_type": "execute_result"
    }
   ],
   "source": [
    "data['type'].head()"
   ]
  },
  {
   "cell_type": "code",
   "execution_count": 13,
   "metadata": {},
   "outputs": [
    {
     "data": {
      "text/html": [
       "<div>\n",
       "<style scoped>\n",
       "    .dataframe tbody tr th:only-of-type {\n",
       "        vertical-align: middle;\n",
       "    }\n",
       "\n",
       "    .dataframe tbody tr th {\n",
       "        vertical-align: top;\n",
       "    }\n",
       "\n",
       "    .dataframe thead th {\n",
       "        text-align: right;\n",
       "    }\n",
       "</style>\n",
       "<table border=\"1\" class=\"dataframe\">\n",
       "  <thead>\n",
       "    <tr style=\"text-align: right;\">\n",
       "      <th></th>\n",
       "      <th>EMS</th>\n",
       "      <th>Fire</th>\n",
       "      <th>Traffic</th>\n",
       "    </tr>\n",
       "  </thead>\n",
       "  <tbody>\n",
       "    <tr>\n",
       "      <th>0</th>\n",
       "      <td>1</td>\n",
       "      <td>0</td>\n",
       "      <td>0</td>\n",
       "    </tr>\n",
       "    <tr>\n",
       "      <th>1</th>\n",
       "      <td>1</td>\n",
       "      <td>0</td>\n",
       "      <td>0</td>\n",
       "    </tr>\n",
       "    <tr>\n",
       "      <th>2</th>\n",
       "      <td>0</td>\n",
       "      <td>1</td>\n",
       "      <td>0</td>\n",
       "    </tr>\n",
       "    <tr>\n",
       "      <th>3</th>\n",
       "      <td>1</td>\n",
       "      <td>0</td>\n",
       "      <td>0</td>\n",
       "    </tr>\n",
       "    <tr>\n",
       "      <th>4</th>\n",
       "      <td>1</td>\n",
       "      <td>0</td>\n",
       "      <td>0</td>\n",
       "    </tr>\n",
       "  </tbody>\n",
       "</table>\n",
       "</div>"
      ],
      "text/plain": [
       "   EMS  Fire  Traffic\n",
       "0    1     0        0\n",
       "1    1     0        0\n",
       "2    0     1        0\n",
       "3    1     0        0\n",
       "4    1     0        0"
      ]
     },
     "execution_count": 13,
     "metadata": {},
     "output_type": "execute_result"
    }
   ],
   "source": [
    "pd.get_dummies(data['type']).head()"
   ]
  },
  {
   "cell_type": "code",
   "execution_count": 14,
   "metadata": {
    "scrolled": true
   },
   "outputs": [
    {
     "data": {
      "text/html": [
       "<div>\n",
       "<style scoped>\n",
       "    .dataframe tbody tr th:only-of-type {\n",
       "        vertical-align: middle;\n",
       "    }\n",
       "\n",
       "    .dataframe tbody tr th {\n",
       "        vertical-align: top;\n",
       "    }\n",
       "\n",
       "    .dataframe thead th {\n",
       "        text-align: right;\n",
       "    }\n",
       "</style>\n",
       "<table border=\"1\" class=\"dataframe\">\n",
       "  <thead>\n",
       "    <tr style=\"text-align: right;\">\n",
       "      <th></th>\n",
       "      <th>lat</th>\n",
       "      <th>lng</th>\n",
       "      <th>desc</th>\n",
       "      <th>zip</th>\n",
       "      <th>title</th>\n",
       "      <th>timeStamp</th>\n",
       "      <th>twp</th>\n",
       "      <th>addr</th>\n",
       "      <th>e</th>\n",
       "      <th>type</th>\n",
       "      <th>EMS</th>\n",
       "      <th>Fire</th>\n",
       "      <th>Traffic</th>\n",
       "    </tr>\n",
       "  </thead>\n",
       "  <tbody>\n",
       "    <tr>\n",
       "      <th>423907</th>\n",
       "      <td>40.190946</td>\n",
       "      <td>-75.237285</td>\n",
       "      <td>SUMNEYTOWN PIKE &amp; WELLINGTON DR; LOWER GWYNEDD...</td>\n",
       "      <td>19002.0</td>\n",
       "      <td>Traffic: VEHICLE ACCIDENT -</td>\n",
       "      <td>2018-11-16 08:51:48</td>\n",
       "      <td>LOWER GWYNEDD</td>\n",
       "      <td>SUMNEYTOWN PIKE &amp; WELLINGTON DR</td>\n",
       "      <td>1</td>\n",
       "      <td>Traffic</td>\n",
       "      <td>0</td>\n",
       "      <td>0</td>\n",
       "      <td>1</td>\n",
       "    </tr>\n",
       "    <tr>\n",
       "      <th>423908</th>\n",
       "      <td>40.155164</td>\n",
       "      <td>-75.264665</td>\n",
       "      <td>HOFFMAN  ; LOWER GWYNEDD; 2018-11-16 @ 08:46:25;</td>\n",
       "      <td>19422.0</td>\n",
       "      <td>Traffic: DISABLED VEHICLE -</td>\n",
       "      <td>2018-11-16 08:46:25</td>\n",
       "      <td>LOWER GWYNEDD</td>\n",
       "      <td>HOFFMAN</td>\n",
       "      <td>1</td>\n",
       "      <td>Traffic</td>\n",
       "      <td>0</td>\n",
       "      <td>0</td>\n",
       "      <td>1</td>\n",
       "    </tr>\n",
       "  </tbody>\n",
       "</table>\n",
       "</div>"
      ],
      "text/plain": [
       "              lat        lng  \\\n",
       "423907  40.190946 -75.237285   \n",
       "423908  40.155164 -75.264665   \n",
       "\n",
       "                                                     desc      zip  \\\n",
       "423907  SUMNEYTOWN PIKE & WELLINGTON DR; LOWER GWYNEDD...  19002.0   \n",
       "423908   HOFFMAN  ; LOWER GWYNEDD; 2018-11-16 @ 08:46:25;  19422.0   \n",
       "\n",
       "                              title            timeStamp            twp  \\\n",
       "423907  Traffic: VEHICLE ACCIDENT -  2018-11-16 08:51:48  LOWER GWYNEDD   \n",
       "423908  Traffic: DISABLED VEHICLE -  2018-11-16 08:46:25  LOWER GWYNEDD   \n",
       "\n",
       "                                   addr  e     type  EMS  Fire  Traffic  \n",
       "423907  SUMNEYTOWN PIKE & WELLINGTON DR  1  Traffic    0     0        1  \n",
       "423908                          HOFFMAN  1  Traffic    0     0        1  "
      ]
     },
     "execution_count": 14,
     "metadata": {},
     "output_type": "execute_result"
    }
   ],
   "source": [
    "data.join(pd.get_dummies(data['type'])).tail(2) # 按index关联"
   ]
  },
  {
   "cell_type": "markdown",
   "metadata": {},
   "source": [
    "## 方法二 遍历"
   ]
  },
  {
   "cell_type": "code",
   "execution_count": 15,
   "metadata": {},
   "outputs": [
    {
     "name": "stdout",
     "output_type": "stream",
     "text": [
      "['Fire', 'EMS', 'Traffic']\n",
      "********************\n",
      "   Fire  EMS  Traffic\n",
      "0   0.0  0.0      0.0\n",
      "1   0.0  0.0      0.0\n",
      "2   0.0  0.0      0.0\n",
      "3   0.0  0.0      0.0\n",
      "4   0.0  0.0      0.0\n"
     ]
    },
    {
     "data": {
      "text/html": [
       "<div>\n",
       "<style scoped>\n",
       "    .dataframe tbody tr th:only-of-type {\n",
       "        vertical-align: middle;\n",
       "    }\n",
       "\n",
       "    .dataframe tbody tr th {\n",
       "        vertical-align: top;\n",
       "    }\n",
       "\n",
       "    .dataframe thead th {\n",
       "        text-align: right;\n",
       "    }\n",
       "</style>\n",
       "<table border=\"1\" class=\"dataframe\">\n",
       "  <thead>\n",
       "    <tr style=\"text-align: right;\">\n",
       "      <th></th>\n",
       "      <th>Fire</th>\n",
       "      <th>EMS</th>\n",
       "      <th>Traffic</th>\n",
       "    </tr>\n",
       "  </thead>\n",
       "  <tbody>\n",
       "    <tr>\n",
       "      <th>0</th>\n",
       "      <td>0.0</td>\n",
       "      <td>1.0</td>\n",
       "      <td>0.0</td>\n",
       "    </tr>\n",
       "    <tr>\n",
       "      <th>1</th>\n",
       "      <td>0.0</td>\n",
       "      <td>1.0</td>\n",
       "      <td>0.0</td>\n",
       "    </tr>\n",
       "    <tr>\n",
       "      <th>2</th>\n",
       "      <td>1.0</td>\n",
       "      <td>0.0</td>\n",
       "      <td>0.0</td>\n",
       "    </tr>\n",
       "    <tr>\n",
       "      <th>3</th>\n",
       "      <td>0.0</td>\n",
       "      <td>1.0</td>\n",
       "      <td>0.0</td>\n",
       "    </tr>\n",
       "    <tr>\n",
       "      <th>4</th>\n",
       "      <td>0.0</td>\n",
       "      <td>1.0</td>\n",
       "      <td>0.0</td>\n",
       "    </tr>\n",
       "  </tbody>\n",
       "</table>\n",
       "</div>"
      ],
      "text/plain": [
       "   Fire  EMS  Traffic\n",
       "0   0.0  1.0      0.0\n",
       "1   0.0  1.0      0.0\n",
       "2   1.0  0.0      0.0\n",
       "3   0.0  1.0      0.0\n",
       "4   0.0  1.0      0.0"
      ]
     },
     "execution_count": 15,
     "metadata": {},
     "output_type": "execute_result"
    }
   ],
   "source": [
    "temp_list = data['title'].str.split(\": \").tolist()\n",
    "cate_list = list(set([i[0] for i in temp_list]))\n",
    "print(cate_list)\n",
    "print('*'*20)\n",
    "zeros_df = pd.DataFrame(np.zeros((data.shape[0],len(cate_list))),columns=cate_list)# 构建全零DataFrame\n",
    "print(zeros_df.head())\n",
    "\n",
    "# 遍历赋值\n",
    "for cate in cate_list:\n",
    "    zeros_df[cate][data['title'].str.contains(cate)] = 1 # 列、行赋值\n",
    "    \n",
    "zeros_df.head()"
   ]
  },
  {
   "cell_type": "markdown",
   "metadata": {},
   "source": [
    "## 方法三 .map(字典)"
   ]
  },
  {
   "cell_type": "code",
   "execution_count": 16,
   "metadata": {
    "scrolled": true
   },
   "outputs": [
    {
     "name": "stdout",
     "output_type": "stream",
     "text": [
      "{'Fire': 1, 'EMS': 2, 'Traffic': 3}\n"
     ]
    },
    {
     "data": {
      "text/html": [
       "<div>\n",
       "<style scoped>\n",
       "    .dataframe tbody tr th:only-of-type {\n",
       "        vertical-align: middle;\n",
       "    }\n",
       "\n",
       "    .dataframe tbody tr th {\n",
       "        vertical-align: top;\n",
       "    }\n",
       "\n",
       "    .dataframe thead th {\n",
       "        text-align: right;\n",
       "    }\n",
       "</style>\n",
       "<table border=\"1\" class=\"dataframe\">\n",
       "  <thead>\n",
       "    <tr style=\"text-align: right;\">\n",
       "      <th></th>\n",
       "      <th>lat</th>\n",
       "      <th>lng</th>\n",
       "      <th>desc</th>\n",
       "      <th>zip</th>\n",
       "      <th>title</th>\n",
       "      <th>timeStamp</th>\n",
       "      <th>twp</th>\n",
       "      <th>addr</th>\n",
       "      <th>e</th>\n",
       "      <th>type</th>\n",
       "      <th>离散</th>\n",
       "    </tr>\n",
       "  </thead>\n",
       "  <tbody>\n",
       "    <tr>\n",
       "      <th>0</th>\n",
       "      <td>40.297876</td>\n",
       "      <td>-75.581294</td>\n",
       "      <td>REINDEER CT &amp; DEAD END;  NEW HANOVER; Station ...</td>\n",
       "      <td>19525.0</td>\n",
       "      <td>EMS: BACK PAINS/INJURY</td>\n",
       "      <td>2015-12-10 17:10:52</td>\n",
       "      <td>NEW HANOVER</td>\n",
       "      <td>REINDEER CT &amp; DEAD END</td>\n",
       "      <td>1</td>\n",
       "      <td>EMS</td>\n",
       "      <td>2</td>\n",
       "    </tr>\n",
       "    <tr>\n",
       "      <th>1</th>\n",
       "      <td>40.258061</td>\n",
       "      <td>-75.264680</td>\n",
       "      <td>BRIAR PATH &amp; WHITEMARSH LN;  HATFIELD TOWNSHIP...</td>\n",
       "      <td>19446.0</td>\n",
       "      <td>EMS: DIABETIC EMERGENCY</td>\n",
       "      <td>2015-12-10 17:29:21</td>\n",
       "      <td>HATFIELD TOWNSHIP</td>\n",
       "      <td>BRIAR PATH &amp; WHITEMARSH LN</td>\n",
       "      <td>1</td>\n",
       "      <td>EMS</td>\n",
       "      <td>2</td>\n",
       "    </tr>\n",
       "    <tr>\n",
       "      <th>2</th>\n",
       "      <td>40.121182</td>\n",
       "      <td>-75.351975</td>\n",
       "      <td>HAWS AVE; NORRISTOWN; 2015-12-10 @ 14:39:21-St...</td>\n",
       "      <td>19401.0</td>\n",
       "      <td>Fire: GAS-ODOR/LEAK</td>\n",
       "      <td>2015-12-10 14:39:21</td>\n",
       "      <td>NORRISTOWN</td>\n",
       "      <td>HAWS AVE</td>\n",
       "      <td>1</td>\n",
       "      <td>Fire</td>\n",
       "      <td>1</td>\n",
       "    </tr>\n",
       "    <tr>\n",
       "      <th>3</th>\n",
       "      <td>40.116153</td>\n",
       "      <td>-75.343513</td>\n",
       "      <td>AIRY ST &amp; SWEDE ST;  NORRISTOWN; Station 308A;...</td>\n",
       "      <td>19401.0</td>\n",
       "      <td>EMS: CARDIAC EMERGENCY</td>\n",
       "      <td>2015-12-10 16:47:36</td>\n",
       "      <td>NORRISTOWN</td>\n",
       "      <td>AIRY ST &amp; SWEDE ST</td>\n",
       "      <td>1</td>\n",
       "      <td>EMS</td>\n",
       "      <td>2</td>\n",
       "    </tr>\n",
       "    <tr>\n",
       "      <th>4</th>\n",
       "      <td>40.251492</td>\n",
       "      <td>-75.603350</td>\n",
       "      <td>CHERRYWOOD CT &amp; DEAD END;  LOWER POTTSGROVE; S...</td>\n",
       "      <td>NaN</td>\n",
       "      <td>EMS: DIZZINESS</td>\n",
       "      <td>2015-12-10 16:56:52</td>\n",
       "      <td>LOWER POTTSGROVE</td>\n",
       "      <td>CHERRYWOOD CT &amp; DEAD END</td>\n",
       "      <td>1</td>\n",
       "      <td>EMS</td>\n",
       "      <td>2</td>\n",
       "    </tr>\n",
       "  </tbody>\n",
       "</table>\n",
       "</div>"
      ],
      "text/plain": [
       "         lat        lng                                               desc  \\\n",
       "0  40.297876 -75.581294  REINDEER CT & DEAD END;  NEW HANOVER; Station ...   \n",
       "1  40.258061 -75.264680  BRIAR PATH & WHITEMARSH LN;  HATFIELD TOWNSHIP...   \n",
       "2  40.121182 -75.351975  HAWS AVE; NORRISTOWN; 2015-12-10 @ 14:39:21-St...   \n",
       "3  40.116153 -75.343513  AIRY ST & SWEDE ST;  NORRISTOWN; Station 308A;...   \n",
       "4  40.251492 -75.603350  CHERRYWOOD CT & DEAD END;  LOWER POTTSGROVE; S...   \n",
       "\n",
       "       zip                    title            timeStamp                twp  \\\n",
       "0  19525.0   EMS: BACK PAINS/INJURY  2015-12-10 17:10:52        NEW HANOVER   \n",
       "1  19446.0  EMS: DIABETIC EMERGENCY  2015-12-10 17:29:21  HATFIELD TOWNSHIP   \n",
       "2  19401.0      Fire: GAS-ODOR/LEAK  2015-12-10 14:39:21         NORRISTOWN   \n",
       "3  19401.0   EMS: CARDIAC EMERGENCY  2015-12-10 16:47:36         NORRISTOWN   \n",
       "4      NaN           EMS: DIZZINESS  2015-12-10 16:56:52   LOWER POTTSGROVE   \n",
       "\n",
       "                         addr  e  type  离散  \n",
       "0      REINDEER CT & DEAD END  1   EMS   2  \n",
       "1  BRIAR PATH & WHITEMARSH LN  1   EMS   2  \n",
       "2                    HAWS AVE  1  Fire   1  \n",
       "3          AIRY ST & SWEDE ST  1   EMS   2  \n",
       "4    CHERRYWOOD CT & DEAD END  1   EMS   2  "
      ]
     },
     "execution_count": 16,
     "metadata": {},
     "output_type": "execute_result"
    }
   ],
   "source": [
    "name = [1,2,3]\n",
    "names = (list(set(data['type'])))\n",
    "dict_name = dict(zip(names,name))\n",
    "print(dict_name)\n",
    "data.assign(离散 = data['type'].map(dict_name)).head()"
   ]
  },
  {
   "cell_type": "markdown",
   "metadata": {},
   "source": [
    "## 方法四  机器学习"
   ]
  },
  {
   "cell_type": "code",
   "execution_count": 17,
   "metadata": {},
   "outputs": [
    {
     "name": "stdout",
     "output_type": "stream",
     "text": [
      "[0 0 1 ... 2 2 2]\n"
     ]
    }
   ],
   "source": [
    "from sklearn.preprocessing import LabelEncoder\n",
    "le = LabelEncoder()\n",
    "le.fit(data['type']) # 遍历一遍‘type’列\n",
    "y = le.transform(data['type']) # 分类字符串转换为离散变量\n",
    "print(y)"
   ]
  },
  {
   "cell_type": "markdown",
   "metadata": {},
   "source": [
    "# 5. 字符串去重"
   ]
  },
  {
   "cell_type": "code",
   "execution_count": 18,
   "metadata": {},
   "outputs": [
    {
     "name": "stdout",
     "output_type": "stream",
     "text": [
      "['EMS' 'Fire' 'Traffic']\n",
      "********************\n",
      "{'Fire', 'EMS', 'Traffic'}\n",
      "********************\n",
      "EMS        208676\n",
      "Traffic    151458\n",
      "Fire        63775\n",
      "Name: type, dtype: int64\n"
     ]
    }
   ],
   "source": [
    "print(data['type'].unique())\n",
    "print('*'*20)\n",
    "print(set(data['type']))\n",
    "print('*'*20)\n",
    "print(data['type'].value_counts())"
   ]
  },
  {
   "cell_type": "markdown",
   "metadata": {},
   "source": [
    "# 知识点\n",
    "1. 数据读取\n",
    "2. 拆分字符串\n",
    "\n",
    "  ```python\n",
    "  Series.str.split(pat=None,\n",
    "                   n=-1,\n",
    "                   expand=False)\n",
    "  ```\n",
    "\n",
    "  - pat：分隔符，默认为所有空字符，包括空格、换行符\\n、制表符\\t\n",
    "  - n：切几刀，默认-1，有多少切多少\n",
    "  - expand=\n",
    "    - False，返回Series\n",
    "    - True，返回DataFrame\n",
    "    - 结合df1.combine_first(df_new)\n",
    "      - 注意column的名称\n",
    "\n",
    "3. 诊断子字符串\n",
    "    ```python\n",
    "  df['col'].str.contains('子字符')\n",
    "  (~df.col1.str.contains('元/平米')).sum()\n",
    "  ```\n",
    "4. 替换\n",
    "    * \n",
    "```python\n",
    "Series.map(lambda x:x.replace(\"替换谁\",\"替换为\"))\n",
    "```\n",
    "    * 当然 也可以对 DataFrame进行`df.applymap(lambda x:x.replace(\"替换谁\",\"替换为\"))`\n",
    "    \n",
    "    *     \n",
    "```python\n",
    "Series.str.replace(\"替换谁\",\"替换为\")\n",
    "```\n",
    "5. 分类数据离散化\n",
    "\n",
    "\n",
    "**数据的种类**\n",
    "\n",
    "    1. 分类数据（一般通过问卷调查获取）\n",
    "       - 无序数据\n",
    "       - 有序数据\n",
    "    2. 数值数据（一般通过日志获取）\n",
    "       - 离散数据\n",
    "       - 连续数据\n",
    "       \n",
    "    * 将分类数据比如 小学、初中、高中、大学 分别对应为离散数据 1，2，3，4 \n",
    "    * 类似MySQL的\n",
    "```msyql\n",
    "    case  col\n",
    "    when '小学' then 1\n",
    "    when '初中' then 2\n",
    "    when '高中' then 3\n",
    "    when '大学' then 4\n",
    "    else 5\n",
    "    end  as New_col\n",
    "```\n",
    "    * 类似Excel的Vlookup函数\n",
    "        * 注意，Vlookup的模糊查找和精确匹配的使用条件\n",
    "\n",
    "    * 方法一，`pd.get_dummies(data['col']).head()`\n",
    "    * 方法二，遍历赋值\n",
    "    * 方法三，先构建字典a = {'小学':1,'初中':2,'高中':3,'大学':4}\n",
    "```python\n",
    "# 构建字典\n",
    "dict_name = dict(zip(key值list,values的list))\n",
    "Series.map(dict_name)\n",
    "```\n",
    "        \n",
    "    * 方法四：机器学习\n",
    "        * 对分类数据进行 Logistic回归 中使用\n",
    "        * KNN（K近邻）分类中使用\n",
    "```python\n",
    "from sklearn.preprocessing import LabelEncoder\n",
    "le = LabelEncoder()\n",
    "le.fit(df['col5']) #遍历一边'col5的属性\n",
    "X = df[['col1','col2','col3']]\n",
    "y = le.transform(df['col5']) # 分类字符串转换为离散变量\n",
    "\n",
    "# 交叉检验\n",
    "from sklearn.model._selection import cross_val_score\n",
    "scores = cross_val_score(knn,X,y,cv=5,scoing='accuracy')\n",
    "print(\"模型转却率为%.2f\"%np.mean(scores))\n",
    "```"
   ]
  },
  {
   "cell_type": "markdown",
   "metadata": {},
   "source": [
    "> By 儒冠多误身 2019/04/21整理\n",
    "\n",
    "\n",
    "> 未完待续……\n",
    "\n",
    "* 正则表达式\n",
    "* 自然语言处理\n",
    "* 词云图"
   ]
  },
  {
   "cell_type": "code",
   "execution_count": null,
   "metadata": {},
   "outputs": [],
   "source": []
  }
 ],
 "metadata": {
  "kernelspec": {
   "display_name": "Python 3",
   "language": "python",
   "name": "python3"
  },
  "language_info": {
   "codemirror_mode": {
    "name": "ipython",
    "version": 3
   },
   "file_extension": ".py",
   "mimetype": "text/x-python",
   "name": "python",
   "nbconvert_exporter": "python",
   "pygments_lexer": "ipython3",
   "version": "3.6.5"
  }
 },
 "nbformat": 4,
 "nbformat_minor": 2
}
